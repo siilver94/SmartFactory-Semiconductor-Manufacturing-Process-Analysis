{
 "cells": [
  {
   "cell_type": "code",
   "execution_count": 1,
   "id": "910a0bb6-28eb-4c5f-96aa-2485a7cf887e",
   "metadata": {},
   "outputs": [],
   "source": [
    "import pandas as pd\n",
    "import numpy as np\n",
    "\n",
    "import seaborn as sns\n",
    "import matplotlib.pyplot as plt\n",
    "import matplotlib as mpl"
   ]
  },
  {
   "cell_type": "code",
   "execution_count": 2,
   "id": "fb95a513-ad88-49fd-bc66-6ae7f339bc9e",
   "metadata": {},
   "outputs": [],
   "source": [
    "df1 = pd.read_csv('Data/preprocessing_data.csv')"
   ]
  },
  {
   "cell_type": "code",
   "execution_count": 3,
   "id": "0b271a3b-69ac-48fe-88b7-803e83838103",
   "metadata": {},
   "outputs": [],
   "source": [
    "df1_oxid = df1[['Reinforcement','Oxid_time']]"
   ]
  },
  {
   "cell_type": "code",
   "execution_count": 4,
   "id": "3abdd814-c2f6-4c9b-bf6c-f07aacd9ac3c",
   "metadata": {},
   "outputs": [
    {
     "data": {
      "text/plain": [
       "<Axes: xlabel='Reinforcement', ylabel='Oxid_time'>"
      ]
     },
     "execution_count": 4,
     "metadata": {},
     "output_type": "execute_result"
    },
    {
     "data": {
      "image/png": "[encoded data removed]",
      "text/plain": [
       "<Figure size 640x480 with 1 Axes>"
      ]
     },
     "metadata": {},
     "output_type": "display_data"
    }
   ],
   "source": [
    "sns.barplot(data = df1_oxid, x = 'Reinforcement', y = 'Oxid_time')"
   ]
  },
  {
   "cell_type": "code",
   "execution_count": 5,
   "id": "28023b26-6975-4beb-9b79-d06832d24456",
   "metadata": {},
   "outputs": [],
   "source": [
    "# 귀무가설 : 보강 여부에 따라 공정시간의 평균의 차이가 없다.\n",
    "# 대립가설 : 보강 여부에 따라 공정시간의 평균의 차이가 있다.\n",
    "import scipy.stats as stats"
   ]
  },
  {
   "cell_type": "code",
   "execution_count": 6,
   "id": "5f0163b5-736d-49b2-8358-4a6f59d2fe7f",
   "metadata": {},
   "outputs": [
    {
     "name": "stderr",
     "output_type": "stream",
     "text": [
      "C:\\ProgramData\\anaconda3\\Lib\\site-packages\\seaborn\\_oldcore.py:1119: FutureWarning: use_inf_as_na option is deprecated and will be removed in a future version. Convert inf values to NaN before operating instead.\n",
      "  with pd.option_context('mode.use_inf_as_na', True):\n"
     ]
    },
    {
     "data": {
      "text/plain": [
       "<Axes: xlabel='Oxid_time', ylabel='Count'>"
      ]
     },
     "execution_count": 6,
     "metadata": {},
     "output_type": "execute_result"
    },
    {
     "data": {
      "image/png": "[encoded data removed]",
      "text/plain": [
       "<Figure size 640x480 with 1 Axes>"
      ]
     },
     "metadata": {},
     "output_type": "display_data"
    }
   ],
   "source": [
    "# 보강 여부 : 범주형 데이터 / Y : 연속형\n",
    "# 1-1. Oxid_time 데이터가 정규분포를 띄는가?\n",
    "sns.histplot(data = df1, x='Oxid_time')\n",
    "# 귀무가설 Oxid_time 데이터 정규분포와 같다.\n",
    "# 대립가설 Oxid_time 데이터 정규분포와 다르다."
   ]
  },
  {
   "cell_type": "code",
   "execution_count": 7,
   "id": "816616c0-c169-4d5a-b488-e8fdecd6567d",
   "metadata": {},
   "outputs": [
    {
     "data": {
      "text/plain": [
       "NormaltestResult(statistic=7323.6988862575145, pvalue=0.0)"
      ]
     },
     "execution_count": 7,
     "metadata": {},
     "output_type": "execute_result"
    }
   ],
   "source": [
    "stats.normaltest(df1['Oxid_time'])"
   ]
  },
  {
   "cell_type": "code",
   "execution_count": 8,
   "id": "6adb6ad0-6ed3-48c3-a0a8-90cbbc49dcef",
   "metadata": {},
   "outputs": [],
   "source": [
    "# P.value < 5% (0.05)\n",
    "# 통계적 결론 : 대립가설 참\n",
    "# 사실적 결론 : 해당 데이터의 분포는 정규분포를 띄지 않는다."
   ]
  },
  {
   "cell_type": "code",
   "execution_count": 9,
   "id": "5e3b68bd-86e8-49e6-8b03-a13ccda92396",
   "metadata": {},
   "outputs": [],
   "source": [
    "# 1-2. 보강 여부에 따라 공정시간의 차이가 있는지 검정 (비정규, 2집단 wilcoxon-> ranksum)\n",
    "cond1 = (df1['Reinforcement'] == True)\n",
    "df1_rein = df1.loc[cond1]\n",
    "\n",
    "cond2 = (df1['Reinforcement'] == False)\n",
    "df1_nonrein = df1.loc[cond2]"
   ]
  },
  {
   "cell_type": "code",
   "execution_count": 10,
   "id": "af1a0727-b6e7-4952-b2c8-9a318818d25b",
   "metadata": {},
   "outputs": [
    {
     "data": {
      "text/plain": [
       "RanksumsResult(statistic=-0.972244747533458, pvalue=0.3309288040213433)"
      ]
     },
     "execution_count": 10,
     "metadata": {},
     "output_type": "execute_result"
    }
   ],
   "source": [
    "stats.ranksums(df1_rein['Oxid_time'],df1_nonrein['Oxid_time'] )"
   ]
  },
  {
   "cell_type": "code",
   "execution_count": 11,
   "id": "85e82b8c-f01b-43f5-83bd-4952190b9d46",
   "metadata": {},
   "outputs": [],
   "source": [
    "# p.value > 0.05\n",
    "# 통계적 결론 : 귀무 가설 참\n",
    "# 사실적 결론 : 보강 여부에 따라 공정시간의 평균의 차이가 없다."
   ]
  },
  {
   "cell_type": "markdown",
   "id": "64bafa84-81a2-4a92-a605-e9c894e42b8b",
   "metadata": {},
   "source": [
    "---"
   ]
  },
  {
   "cell_type": "code",
   "execution_count": null,
   "id": "fdfb6d96-cb40-4f84-b3ee-3ef3a1851701",
   "metadata": {},
   "outputs": [],
   "source": []
  },
  {
   "cell_type": "code",
   "execution_count": 3,
   "id": "50812017-780d-4479-bf26-20b7df238c13",
   "metadata": {},
   "outputs": [],
   "source": [
    "import pandas as pd\n",
    "import numpy as np\n",
    "\n",
    "import seaborn as sns\n",
    "import matplotlib.pyplot as plt\n",
    "import matplotlib as mpl\n",
    "import scipy.stats as stats"
   ]
  },
  {
   "cell_type": "code",
   "execution_count": 4,
   "id": "faed2570-cb5c-409e-bd82-8d0bf96aaa70",
   "metadata": {},
   "outputs": [],
   "source": [
    "df1 = pd.read_csv('Data/preprocessing_data.csv')"
   ]
  },
  {
   "cell_type": "code",
   "execution_count": 5,
   "id": "7932762d-a3a3-4b6d-9cb4-b5c59d688aba",
   "metadata": {},
   "outputs": [],
   "source": [
    "df1_uv = df1[['UV_type','Range_check']] # 범주형 vs 범주형\n",
    "df1_contingency = pd.crosstab(df1_uv['UV_type'],df1_uv['Range_check'])"
   ]
  },
  {
   "cell_type": "code",
   "execution_count": 6,
   "id": "a2bac1f8-caad-44fc-88d2-684c4eba6359",
   "metadata": {},
   "outputs": [
    {
     "data": {
      "text/html": [
       "<div>\n",
       "<style scoped>\n",
       "    .dataframe tbody tr th:only-of-type {\n",
       "        vertical-align: middle;\n",
       "    }\n",
       "\n",
       "    .dataframe tbody tr th {\n",
       "        vertical-align: top;\n",
       "    }\n",
       "\n",
       "    .dataframe thead th {\n",
       "        text-align: right;\n",
       "    }\n",
       "</style>\n",
       "<table border=\"1\" class=\"dataframe\">\n",
       "  <thead>\n",
       "    <tr style=\"text-align: right;\">\n",
       "      <th>Range_check</th>\n",
       "      <th>False</th>\n",
       "      <th>True</th>\n",
       "    </tr>\n",
       "    <tr>\n",
       "      <th>UV_type</th>\n",
       "      <th></th>\n",
       "      <th></th>\n",
       "    </tr>\n",
       "  </thead>\n",
       "  <tbody>\n",
       "    <tr>\n",
       "      <th>G</th>\n",
       "      <td>36</td>\n",
       "      <td>234</td>\n",
       "    </tr>\n",
       "    <tr>\n",
       "      <th>H</th>\n",
       "      <td>86</td>\n",
       "      <td>170</td>\n",
       "    </tr>\n",
       "    <tr>\n",
       "      <th>I</th>\n",
       "      <td>40</td>\n",
       "      <td>186</td>\n",
       "    </tr>\n",
       "  </tbody>\n",
       "</table>\n",
       "</div>"
      ],
      "text/plain": [
       "Range_check  False  True \n",
       "UV_type                  \n",
       "G               36    234\n",
       "H               86    170\n",
       "I               40    186"
      ]
     },
     "execution_count": 6,
     "metadata": {},
     "output_type": "execute_result"
    }
   ],
   "source": [
    "df1_contingency"
   ]
  },
  {
   "cell_type": "code",
   "execution_count": 7,
   "id": "39924f98-a2a1-490f-b00f-9a33a28ed362",
   "metadata": {},
   "outputs": [
    {
     "data": {
      "text/plain": [
       "Chi2ContingencyResult(statistic=34.738055467596986, pvalue=2.862378750713432e-08, dof=2, expected_freq=array([[ 58.16489362, 211.83510638],\n",
       "       [ 55.14893617, 200.85106383],\n",
       "       [ 48.68617021, 177.31382979]]))"
      ]
     },
     "execution_count": 7,
     "metadata": {},
     "output_type": "execute_result"
    }
   ],
   "source": [
    "# 귀무가설 : 레이저 종류(UV Type)에 따라 선폭의 적정여부(T/F)의 유의미한 차이가 없다.\n",
    "# 대립가설 : 레이저 종류(UV Type)에 따라 선폭의 적정여부(T/F)의 유의미한 차이가 있다.\n",
    "#           (두 범주형 변수가 서로 연관성이 있다.)\n",
    "stats.chi2_contingency(df1_contingency)"
   ]
  },
  {
   "cell_type": "code",
   "execution_count": 8,
   "id": "53850728-e641-4a81-b267-db1d8d07b88b",
   "metadata": {},
   "outputs": [],
   "source": [
    "# P.value < 0.05\n",
    "# 통계적 결론 : 대립가설 참\n",
    "# 사실적 결론 : 레이저 종류(UV Type)에 따라 선폭의 적정여부(T/F)의 유의미한 차이가 있다.\n",
    "#           (두 범주형 변수가 서로 연관성이 있다.)"
   ]
  },
  {
   "cell_type": "code",
   "execution_count": 9,
   "id": "25ff3258-9668-4f9c-9077-ce90ce3b5816",
   "metadata": {},
   "outputs": [
    {
     "ename": "AttributeError",
     "evalue": "'numpy.bool_' object has no attribute 'startswith'",
     "output_type": "error",
     "traceback": [
      "\u001b[1;31m---------------------------------------------------------------------------\u001b[0m",
      "\u001b[1;31mAttributeError\u001b[0m                            Traceback (most recent call last)",
      "Cell \u001b[1;32mIn[9], line 1\u001b[0m\n\u001b[1;32m----> 1\u001b[0m sns\u001b[38;5;241m.\u001b[39mcountplot(data \u001b[38;5;241m=\u001b[39m df1, x\u001b[38;5;241m=\u001b[39m\u001b[38;5;124m'\u001b[39m\u001b[38;5;124mUV_type\u001b[39m\u001b[38;5;124m'\u001b[39m, hue \u001b[38;5;241m=\u001b[39m \u001b[38;5;124m'\u001b[39m\u001b[38;5;124mRange_check\u001b[39m\u001b[38;5;124m'\u001b[39m)\n",
      "File \u001b[1;32mC:\\ProgramData\\anaconda3\\Lib\\site-packages\\seaborn\\categorical.py:2955\u001b[0m, in \u001b[0;36mcountplot\u001b[1;34m(data, x, y, hue, order, hue_order, orient, color, palette, saturation, width, dodge, ax, **kwargs)\u001b[0m\n\u001b[0;32m   2952\u001b[0m \u001b[38;5;28;01mif\u001b[39;00m ax \u001b[38;5;129;01mis\u001b[39;00m \u001b[38;5;28;01mNone\u001b[39;00m:\n\u001b[0;32m   2953\u001b[0m     ax \u001b[38;5;241m=\u001b[39m plt\u001b[38;5;241m.\u001b[39mgca()\n\u001b[1;32m-> 2955\u001b[0m plotter\u001b[38;5;241m.\u001b[39mplot(ax, kwargs)\n\u001b[0;32m   2956\u001b[0m \u001b[38;5;28;01mreturn\u001b[39;00m ax\n",
      "File \u001b[1;32mC:\\ProgramData\\anaconda3\\Lib\\site-packages\\seaborn\\categorical.py:1587\u001b[0m, in \u001b[0;36m_BarPlotter.plot\u001b[1;34m(self, ax, bar_kws)\u001b[0m\n\u001b[0;32m   1585\u001b[0m \u001b[38;5;250m\u001b[39m\u001b[38;5;124;03m\"\"\"Make the plot.\"\"\"\u001b[39;00m\n\u001b[0;32m   1586\u001b[0m \u001b[38;5;28mself\u001b[39m\u001b[38;5;241m.\u001b[39mdraw_bars(ax, bar_kws)\n\u001b[1;32m-> 1587\u001b[0m \u001b[38;5;28mself\u001b[39m\u001b[38;5;241m.\u001b[39mannotate_axes(ax)\n\u001b[0;32m   1588\u001b[0m \u001b[38;5;28;01mif\u001b[39;00m \u001b[38;5;28mself\u001b[39m\u001b[38;5;241m.\u001b[39morient \u001b[38;5;241m==\u001b[39m \u001b[38;5;124m\"\u001b[39m\u001b[38;5;124mh\u001b[39m\u001b[38;5;124m\"\u001b[39m:\n\u001b[0;32m   1589\u001b[0m     ax\u001b[38;5;241m.\u001b[39minvert_yaxis()\n",
      "File \u001b[1;32mC:\\ProgramData\\anaconda3\\Lib\\site-packages\\seaborn\\categorical.py:767\u001b[0m, in \u001b[0;36m_CategoricalPlotter.annotate_axes\u001b[1;34m(self, ax)\u001b[0m\n\u001b[0;32m    764\u001b[0m     ax\u001b[38;5;241m.\u001b[39mset_ylim(\u001b[38;5;241m-\u001b[39m\u001b[38;5;241m.5\u001b[39m, \u001b[38;5;28mlen\u001b[39m(\u001b[38;5;28mself\u001b[39m\u001b[38;5;241m.\u001b[39mplot_data) \u001b[38;5;241m-\u001b[39m \u001b[38;5;241m.5\u001b[39m, auto\u001b[38;5;241m=\u001b[39m\u001b[38;5;28;01mNone\u001b[39;00m)\n\u001b[0;32m    766\u001b[0m \u001b[38;5;28;01mif\u001b[39;00m \u001b[38;5;28mself\u001b[39m\u001b[38;5;241m.\u001b[39mhue_names \u001b[38;5;129;01mis\u001b[39;00m \u001b[38;5;129;01mnot\u001b[39;00m \u001b[38;5;28;01mNone\u001b[39;00m:\n\u001b[1;32m--> 767\u001b[0m     ax\u001b[38;5;241m.\u001b[39mlegend(loc\u001b[38;5;241m=\u001b[39m\u001b[38;5;124m\"\u001b[39m\u001b[38;5;124mbest\u001b[39m\u001b[38;5;124m\"\u001b[39m, title\u001b[38;5;241m=\u001b[39m\u001b[38;5;28mself\u001b[39m\u001b[38;5;241m.\u001b[39mhue_title)\n",
      "File \u001b[1;32mC:\\ProgramData\\anaconda3\\Lib\\site-packages\\matplotlib\\axes\\_axes.py:322\u001b[0m, in \u001b[0;36mAxes.legend\u001b[1;34m(self, *args, **kwargs)\u001b[0m\n\u001b[0;32m    204\u001b[0m \u001b[38;5;129m@_docstring\u001b[39m\u001b[38;5;241m.\u001b[39mdedent_interpd\n\u001b[0;32m    205\u001b[0m \u001b[38;5;28;01mdef\u001b[39;00m \u001b[38;5;21mlegend\u001b[39m(\u001b[38;5;28mself\u001b[39m, \u001b[38;5;241m*\u001b[39margs, \u001b[38;5;241m*\u001b[39m\u001b[38;5;241m*\u001b[39mkwargs):\n\u001b[0;32m    206\u001b[0m \u001b[38;5;250m    \u001b[39m\u001b[38;5;124;03m\"\"\"\u001b[39;00m\n\u001b[0;32m    207\u001b[0m \u001b[38;5;124;03m    Place a legend on the Axes.\u001b[39;00m\n\u001b[0;32m    208\u001b[0m \n\u001b[1;32m   (...)\u001b[0m\n\u001b[0;32m    320\u001b[0m \u001b[38;5;124;03m    .. plot:: gallery/text_labels_and_annotations/legend.py\u001b[39;00m\n\u001b[0;32m    321\u001b[0m \u001b[38;5;124;03m    \"\"\"\u001b[39;00m\n\u001b[1;32m--> 322\u001b[0m     handles, labels, kwargs \u001b[38;5;241m=\u001b[39m mlegend\u001b[38;5;241m.\u001b[39m_parse_legend_args([\u001b[38;5;28mself\u001b[39m], \u001b[38;5;241m*\u001b[39margs, \u001b[38;5;241m*\u001b[39m\u001b[38;5;241m*\u001b[39mkwargs)\n\u001b[0;32m    323\u001b[0m     \u001b[38;5;28mself\u001b[39m\u001b[38;5;241m.\u001b[39mlegend_ \u001b[38;5;241m=\u001b[39m mlegend\u001b[38;5;241m.\u001b[39mLegend(\u001b[38;5;28mself\u001b[39m, handles, labels, \u001b[38;5;241m*\u001b[39m\u001b[38;5;241m*\u001b[39mkwargs)\n\u001b[0;32m    324\u001b[0m     \u001b[38;5;28mself\u001b[39m\u001b[38;5;241m.\u001b[39mlegend_\u001b[38;5;241m.\u001b[39m_remove_method \u001b[38;5;241m=\u001b[39m \u001b[38;5;28mself\u001b[39m\u001b[38;5;241m.\u001b[39m_remove_legend\n",
      "File \u001b[1;32mC:\\ProgramData\\anaconda3\\Lib\\site-packages\\matplotlib\\legend.py:1361\u001b[0m, in \u001b[0;36m_parse_legend_args\u001b[1;34m(axs, handles, labels, *args, **kwargs)\u001b[0m\n\u001b[0;32m   1357\u001b[0m     handles \u001b[38;5;241m=\u001b[39m [handle \u001b[38;5;28;01mfor\u001b[39;00m handle, label\n\u001b[0;32m   1358\u001b[0m                \u001b[38;5;129;01min\u001b[39;00m \u001b[38;5;28mzip\u001b[39m(_get_legend_handles(axs, handlers), labels)]\n\u001b[0;32m   1360\u001b[0m \u001b[38;5;28;01melif\u001b[39;00m \u001b[38;5;28mlen\u001b[39m(args) \u001b[38;5;241m==\u001b[39m \u001b[38;5;241m0\u001b[39m:  \u001b[38;5;66;03m# 0 args: automatically detect labels and handles.\u001b[39;00m\n\u001b[1;32m-> 1361\u001b[0m     handles, labels \u001b[38;5;241m=\u001b[39m _get_legend_handles_labels(axs, handlers)\n\u001b[0;32m   1362\u001b[0m     \u001b[38;5;28;01mif\u001b[39;00m \u001b[38;5;129;01mnot\u001b[39;00m handles:\n\u001b[0;32m   1363\u001b[0m         log\u001b[38;5;241m.\u001b[39mwarning(\n\u001b[0;32m   1364\u001b[0m             \u001b[38;5;124m\"\u001b[39m\u001b[38;5;124mNo artists with labels found to put in legend.  Note that \u001b[39m\u001b[38;5;124m\"\u001b[39m\n\u001b[0;32m   1365\u001b[0m             \u001b[38;5;124m\"\u001b[39m\u001b[38;5;124martists whose label start with an underscore are ignored \u001b[39m\u001b[38;5;124m\"\u001b[39m\n\u001b[0;32m   1366\u001b[0m             \u001b[38;5;124m\"\u001b[39m\u001b[38;5;124mwhen legend() is called with no argument.\u001b[39m\u001b[38;5;124m\"\u001b[39m)\n",
      "File \u001b[1;32mC:\\ProgramData\\anaconda3\\Lib\\site-packages\\matplotlib\\legend.py:1291\u001b[0m, in \u001b[0;36m_get_legend_handles_labels\u001b[1;34m(axs, legend_handler_map)\u001b[0m\n\u001b[0;32m   1289\u001b[0m \u001b[38;5;28;01mfor\u001b[39;00m handle \u001b[38;5;129;01min\u001b[39;00m _get_legend_handles(axs, legend_handler_map):\n\u001b[0;32m   1290\u001b[0m     label \u001b[38;5;241m=\u001b[39m handle\u001b[38;5;241m.\u001b[39mget_label()\n\u001b[1;32m-> 1291\u001b[0m     \u001b[38;5;28;01mif\u001b[39;00m label \u001b[38;5;129;01mand\u001b[39;00m \u001b[38;5;129;01mnot\u001b[39;00m label\u001b[38;5;241m.\u001b[39mstartswith(\u001b[38;5;124m'\u001b[39m\u001b[38;5;124m_\u001b[39m\u001b[38;5;124m'\u001b[39m):\n\u001b[0;32m   1292\u001b[0m         handles\u001b[38;5;241m.\u001b[39mappend(handle)\n\u001b[0;32m   1293\u001b[0m         labels\u001b[38;5;241m.\u001b[39mappend(label)\n",
      "\u001b[1;31mAttributeError\u001b[0m: 'numpy.bool_' object has no attribute 'startswith'"
     ]
    },
    {
     "data": {
      "image/png": "[encoded data removed]",
      "text/plain": [
       "<Figure size 640x480 with 1 Axes>"
      ]
     },
     "metadata": {},
     "output_type": "display_data"
    }
   ],
   "source": [
    "sns.countplot(data = df1, x='UV_type', hue = 'Range_check')"
   ]
  },
  {
   "cell_type": "markdown",
   "id": "527b703a-f811-4d5c-9b2c-561668b2272b",
   "metadata": {},
   "source": [
    "---"
   ]
  },
  {
   "cell_type": "code",
   "execution_count": null,
   "id": "6fc4be84-3ac1-445a-a1b4-d6233e92f54a",
   "metadata": {},
   "outputs": [],
   "source": []
  },
  {
   "cell_type": "code",
   "execution_count": 38,
   "id": "1905cb41-8209-42aa-8008-58f32f68d024",
   "metadata": {},
   "outputs": [],
   "source": [
    "import pandas as pd\n",
    "import numpy as np\n",
    "\n",
    "import seaborn as sns\n",
    "import matplotlib.pyplot as plt\n",
    "import matplotlib as mpl\n",
    "import scipy.stats as stats"
   ]
  },
  {
   "cell_type": "code",
   "execution_count": 39,
   "id": "07c0f7cd-a2bb-465d-b2f9-0f06a9ed6abf",
   "metadata": {},
   "outputs": [],
   "source": [
    "df1 = pd.read_csv('Data/chamber_route.csv')"
   ]
  },
  {
   "cell_type": "code",
   "execution_count": 40,
   "id": "8a4cd17d-69f9-4a8b-8cc0-a7cdc8205fc8",
   "metadata": {
    "scrolled": true
   },
   "outputs": [
    {
     "name": "stdout",
     "output_type": "stream",
     "text": [
      "<class 'pandas.core.frame.DataFrame'>\n",
      "RangeIndex: 45 entries, 0 to 44\n",
      "Data columns (total 5 columns):\n",
      " #   Column         Non-Null Count  Dtype  \n",
      "---  ------         --------------  -----  \n",
      " 0   Unnamed: 0     45 non-null     int64  \n",
      " 1   Chamber_Route  45 non-null     object \n",
      " 2   Target         45 non-null     int64  \n",
      " 3   count          45 non-null     int64  \n",
      " 4   error_rate     45 non-null     float64\n",
      "dtypes: float64(1), int64(3), object(1)\n",
      "memory usage: 1.9+ KB\n"
     ]
    }
   ],
   "source": [
    "df1.info()"
   ]
  },
  {
   "cell_type": "code",
   "execution_count": 41,
   "id": "fce07cee-54e0-48bc-85a3-0544a13e164b",
   "metadata": {},
   "outputs": [
    {
     "name": "stderr",
     "output_type": "stream",
     "text": [
      "C:\\ProgramData\\anaconda3\\Lib\\site-packages\\seaborn\\_oldcore.py:1119: FutureWarning: use_inf_as_na option is deprecated and will be removed in a future version. Convert inf values to NaN before operating instead.\n",
      "  with pd.option_context('mode.use_inf_as_na', True):\n"
     ]
    },
    {
     "data": {
      "text/plain": [
       "<Axes: xlabel='count', ylabel='Count'>"
      ]
     },
     "execution_count": 41,
     "metadata": {},
     "output_type": "execute_result"
    },
    {
     "data": {
      "image/png": "[encoded data removed]",
      "text/plain": [
       "<Figure size 640x480 with 1 Axes>"
      ]
     },
     "metadata": {},
     "output_type": "display_data"
    }
   ],
   "source": [
    "sns.histplot(data = df1, x= 'count')"
   ]
  },
  {
   "cell_type": "code",
   "execution_count": 42,
   "id": "b9b6363f-a7de-4ed7-9d11-3973fceb443b",
   "metadata": {},
   "outputs": [
    {
     "data": {
      "text/plain": [
       "count    45.000000\n",
       "mean     16.711111\n",
       "std       5.459030\n",
       "min       8.000000\n",
       "25%      14.000000\n",
       "50%      15.000000\n",
       "75%      17.000000\n",
       "max      34.000000\n",
       "Name: count, dtype: float64"
      ]
     },
     "execution_count": 42,
     "metadata": {},
     "output_type": "execute_result"
    }
   ],
   "source": [
    "# 공정 경로에 따라 부하량과 부량 개수의 유의미한 차이가 있는가?\n",
    "df1['count'].describe()"
   ]
  },
  {
   "cell_type": "code",
   "execution_count": 43,
   "id": "845cbd05-15f2-4650-961f-6ccf0320cec3",
   "metadata": {},
   "outputs": [
    {
     "data": {
      "text/plain": [
       "25.6"
      ]
     },
     "execution_count": 43,
     "metadata": {},
     "output_type": "execute_result"
    }
   ],
   "source": [
    "df1['count'].quantile(0.90)"
   ]
  },
  {
   "cell_type": "code",
   "execution_count": 44,
   "id": "a4e6c659-5b0a-4259-a30b-0a63de317158",
   "metadata": {},
   "outputs": [],
   "source": [
    "cond1 = (df1['count'] > 25)\n",
    "df1.loc[cond1, '과부하여부'] = '과부하'\n",
    "df1.loc[~cond1, '과부하여부'] = '정상'"
   ]
  },
  {
   "cell_type": "code",
   "execution_count": 45,
   "id": "d7bab20d-aed8-43f5-80d8-df3f9507893c",
   "metadata": {
    "scrolled": true
   },
   "outputs": [
    {
     "data": {
      "text/html": [
       "<div>\n",
       "<style scoped>\n",
       "    .dataframe tbody tr th:only-of-type {\n",
       "        vertical-align: middle;\n",
       "    }\n",
       "\n",
       "    .dataframe tbody tr th {\n",
       "        vertical-align: top;\n",
       "    }\n",
       "\n",
       "    .dataframe thead th {\n",
       "        text-align: right;\n",
       "    }\n",
       "</style>\n",
       "<table border=\"1\" class=\"dataframe\">\n",
       "  <thead>\n",
       "    <tr style=\"text-align: right;\">\n",
       "      <th></th>\n",
       "      <th>Unnamed: 0</th>\n",
       "      <th>Chamber_Route</th>\n",
       "      <th>Target</th>\n",
       "      <th>count</th>\n",
       "      <th>error_rate</th>\n",
       "      <th>과부하여부</th>\n",
       "    </tr>\n",
       "  </thead>\n",
       "  <tbody>\n",
       "    <tr>\n",
       "      <th>0</th>\n",
       "      <td>0</td>\n",
       "      <td>route_11111</td>\n",
       "      <td>1415</td>\n",
       "      <td>15</td>\n",
       "      <td>94.333333</td>\n",
       "      <td>정상</td>\n",
       "    </tr>\n",
       "    <tr>\n",
       "      <th>1</th>\n",
       "      <td>1</td>\n",
       "      <td>route_11133</td>\n",
       "      <td>1367</td>\n",
       "      <td>13</td>\n",
       "      <td>105.153846</td>\n",
       "      <td>정상</td>\n",
       "    </tr>\n",
       "    <tr>\n",
       "      <th>2</th>\n",
       "      <td>2</td>\n",
       "      <td>route_11222</td>\n",
       "      <td>2281</td>\n",
       "      <td>25</td>\n",
       "      <td>91.240000</td>\n",
       "      <td>정상</td>\n",
       "    </tr>\n",
       "    <tr>\n",
       "      <th>3</th>\n",
       "      <td>3</td>\n",
       "      <td>route_11311</td>\n",
       "      <td>1811</td>\n",
       "      <td>17</td>\n",
       "      <td>106.529412</td>\n",
       "      <td>정상</td>\n",
       "    </tr>\n",
       "    <tr>\n",
       "      <th>4</th>\n",
       "      <td>4</td>\n",
       "      <td>route_11333</td>\n",
       "      <td>1203</td>\n",
       "      <td>14</td>\n",
       "      <td>85.928571</td>\n",
       "      <td>정상</td>\n",
       "    </tr>\n",
       "    <tr>\n",
       "      <th>5</th>\n",
       "      <td>5</td>\n",
       "      <td>route_12111</td>\n",
       "      <td>1677</td>\n",
       "      <td>18</td>\n",
       "      <td>93.166667</td>\n",
       "      <td>정상</td>\n",
       "    </tr>\n",
       "    <tr>\n",
       "      <th>6</th>\n",
       "      <td>6</td>\n",
       "      <td>route_12133</td>\n",
       "      <td>1519</td>\n",
       "      <td>14</td>\n",
       "      <td>108.500000</td>\n",
       "      <td>정상</td>\n",
       "    </tr>\n",
       "    <tr>\n",
       "      <th>7</th>\n",
       "      <td>7</td>\n",
       "      <td>route_12222</td>\n",
       "      <td>2835</td>\n",
       "      <td>20</td>\n",
       "      <td>141.750000</td>\n",
       "      <td>정상</td>\n",
       "    </tr>\n",
       "    <tr>\n",
       "      <th>8</th>\n",
       "      <td>8</td>\n",
       "      <td>route_12311</td>\n",
       "      <td>1253</td>\n",
       "      <td>15</td>\n",
       "      <td>83.533333</td>\n",
       "      <td>정상</td>\n",
       "    </tr>\n",
       "    <tr>\n",
       "      <th>9</th>\n",
       "      <td>9</td>\n",
       "      <td>route_12333</td>\n",
       "      <td>2152</td>\n",
       "      <td>16</td>\n",
       "      <td>134.500000</td>\n",
       "      <td>정상</td>\n",
       "    </tr>\n",
       "    <tr>\n",
       "      <th>10</th>\n",
       "      <td>10</td>\n",
       "      <td>route_13111</td>\n",
       "      <td>1590</td>\n",
       "      <td>14</td>\n",
       "      <td>113.571429</td>\n",
       "      <td>정상</td>\n",
       "    </tr>\n",
       "    <tr>\n",
       "      <th>11</th>\n",
       "      <td>11</td>\n",
       "      <td>route_13133</td>\n",
       "      <td>1452</td>\n",
       "      <td>9</td>\n",
       "      <td>161.333333</td>\n",
       "      <td>정상</td>\n",
       "    </tr>\n",
       "    <tr>\n",
       "      <th>12</th>\n",
       "      <td>12</td>\n",
       "      <td>route_13222</td>\n",
       "      <td>3137</td>\n",
       "      <td>26</td>\n",
       "      <td>120.653846</td>\n",
       "      <td>과부하</td>\n",
       "    </tr>\n",
       "    <tr>\n",
       "      <th>13</th>\n",
       "      <td>13</td>\n",
       "      <td>route_13311</td>\n",
       "      <td>1862</td>\n",
       "      <td>15</td>\n",
       "      <td>124.133333</td>\n",
       "      <td>정상</td>\n",
       "    </tr>\n",
       "    <tr>\n",
       "      <th>14</th>\n",
       "      <td>14</td>\n",
       "      <td>route_13333</td>\n",
       "      <td>1651</td>\n",
       "      <td>16</td>\n",
       "      <td>103.187500</td>\n",
       "      <td>정상</td>\n",
       "    </tr>\n",
       "    <tr>\n",
       "      <th>15</th>\n",
       "      <td>15</td>\n",
       "      <td>route_21111</td>\n",
       "      <td>1942</td>\n",
       "      <td>14</td>\n",
       "      <td>138.714286</td>\n",
       "      <td>정상</td>\n",
       "    </tr>\n",
       "    <tr>\n",
       "      <th>16</th>\n",
       "      <td>16</td>\n",
       "      <td>route_21133</td>\n",
       "      <td>1976</td>\n",
       "      <td>17</td>\n",
       "      <td>116.235294</td>\n",
       "      <td>정상</td>\n",
       "    </tr>\n",
       "    <tr>\n",
       "      <th>17</th>\n",
       "      <td>17</td>\n",
       "      <td>route_21222</td>\n",
       "      <td>3358</td>\n",
       "      <td>26</td>\n",
       "      <td>129.153846</td>\n",
       "      <td>과부하</td>\n",
       "    </tr>\n",
       "    <tr>\n",
       "      <th>18</th>\n",
       "      <td>18</td>\n",
       "      <td>route_21311</td>\n",
       "      <td>1396</td>\n",
       "      <td>15</td>\n",
       "      <td>93.066667</td>\n",
       "      <td>정상</td>\n",
       "    </tr>\n",
       "    <tr>\n",
       "      <th>19</th>\n",
       "      <td>19</td>\n",
       "      <td>route_21333</td>\n",
       "      <td>2096</td>\n",
       "      <td>16</td>\n",
       "      <td>131.000000</td>\n",
       "      <td>정상</td>\n",
       "    </tr>\n",
       "    <tr>\n",
       "      <th>20</th>\n",
       "      <td>20</td>\n",
       "      <td>route_22111</td>\n",
       "      <td>1639</td>\n",
       "      <td>13</td>\n",
       "      <td>126.076923</td>\n",
       "      <td>정상</td>\n",
       "    </tr>\n",
       "    <tr>\n",
       "      <th>21</th>\n",
       "      <td>21</td>\n",
       "      <td>route_22133</td>\n",
       "      <td>1895</td>\n",
       "      <td>12</td>\n",
       "      <td>157.916667</td>\n",
       "      <td>정상</td>\n",
       "    </tr>\n",
       "    <tr>\n",
       "      <th>22</th>\n",
       "      <td>22</td>\n",
       "      <td>route_22222</td>\n",
       "      <td>3351</td>\n",
       "      <td>29</td>\n",
       "      <td>115.551724</td>\n",
       "      <td>과부하</td>\n",
       "    </tr>\n",
       "    <tr>\n",
       "      <th>23</th>\n",
       "      <td>23</td>\n",
       "      <td>route_22311</td>\n",
       "      <td>1142</td>\n",
       "      <td>11</td>\n",
       "      <td>103.818182</td>\n",
       "      <td>정상</td>\n",
       "    </tr>\n",
       "    <tr>\n",
       "      <th>24</th>\n",
       "      <td>24</td>\n",
       "      <td>route_22333</td>\n",
       "      <td>1661</td>\n",
       "      <td>15</td>\n",
       "      <td>110.733333</td>\n",
       "      <td>정상</td>\n",
       "    </tr>\n",
       "    <tr>\n",
       "      <th>25</th>\n",
       "      <td>25</td>\n",
       "      <td>route_23111</td>\n",
       "      <td>1819</td>\n",
       "      <td>16</td>\n",
       "      <td>113.687500</td>\n",
       "      <td>정상</td>\n",
       "    </tr>\n",
       "    <tr>\n",
       "      <th>26</th>\n",
       "      <td>26</td>\n",
       "      <td>route_23133</td>\n",
       "      <td>1792</td>\n",
       "      <td>11</td>\n",
       "      <td>162.909091</td>\n",
       "      <td>정상</td>\n",
       "    </tr>\n",
       "    <tr>\n",
       "      <th>27</th>\n",
       "      <td>27</td>\n",
       "      <td>route_23222</td>\n",
       "      <td>3850</td>\n",
       "      <td>34</td>\n",
       "      <td>113.235294</td>\n",
       "      <td>과부하</td>\n",
       "    </tr>\n",
       "    <tr>\n",
       "      <th>28</th>\n",
       "      <td>28</td>\n",
       "      <td>route_23311</td>\n",
       "      <td>1514</td>\n",
       "      <td>16</td>\n",
       "      <td>94.625000</td>\n",
       "      <td>정상</td>\n",
       "    </tr>\n",
       "    <tr>\n",
       "      <th>29</th>\n",
       "      <td>29</td>\n",
       "      <td>route_23333</td>\n",
       "      <td>1334</td>\n",
       "      <td>14</td>\n",
       "      <td>95.285714</td>\n",
       "      <td>정상</td>\n",
       "    </tr>\n",
       "    <tr>\n",
       "      <th>30</th>\n",
       "      <td>30</td>\n",
       "      <td>route_31111</td>\n",
       "      <td>2007</td>\n",
       "      <td>16</td>\n",
       "      <td>125.437500</td>\n",
       "      <td>정상</td>\n",
       "    </tr>\n",
       "    <tr>\n",
       "      <th>31</th>\n",
       "      <td>31</td>\n",
       "      <td>route_31133</td>\n",
       "      <td>1564</td>\n",
       "      <td>14</td>\n",
       "      <td>111.714286</td>\n",
       "      <td>정상</td>\n",
       "    </tr>\n",
       "    <tr>\n",
       "      <th>32</th>\n",
       "      <td>32</td>\n",
       "      <td>route_31222</td>\n",
       "      <td>2453</td>\n",
       "      <td>23</td>\n",
       "      <td>106.652174</td>\n",
       "      <td>정상</td>\n",
       "    </tr>\n",
       "    <tr>\n",
       "      <th>33</th>\n",
       "      <td>33</td>\n",
       "      <td>route_31311</td>\n",
       "      <td>1548</td>\n",
       "      <td>12</td>\n",
       "      <td>129.000000</td>\n",
       "      <td>정상</td>\n",
       "    </tr>\n",
       "    <tr>\n",
       "      <th>34</th>\n",
       "      <td>34</td>\n",
       "      <td>route_31333</td>\n",
       "      <td>1312</td>\n",
       "      <td>14</td>\n",
       "      <td>93.714286</td>\n",
       "      <td>정상</td>\n",
       "    </tr>\n",
       "    <tr>\n",
       "      <th>35</th>\n",
       "      <td>35</td>\n",
       "      <td>route_32111</td>\n",
       "      <td>1613</td>\n",
       "      <td>15</td>\n",
       "      <td>107.533333</td>\n",
       "      <td>정상</td>\n",
       "    </tr>\n",
       "    <tr>\n",
       "      <th>36</th>\n",
       "      <td>36</td>\n",
       "      <td>route_32133</td>\n",
       "      <td>1533</td>\n",
       "      <td>17</td>\n",
       "      <td>90.176471</td>\n",
       "      <td>정상</td>\n",
       "    </tr>\n",
       "    <tr>\n",
       "      <th>37</th>\n",
       "      <td>37</td>\n",
       "      <td>route_32222</td>\n",
       "      <td>3496</td>\n",
       "      <td>30</td>\n",
       "      <td>116.533333</td>\n",
       "      <td>과부하</td>\n",
       "    </tr>\n",
       "    <tr>\n",
       "      <th>38</th>\n",
       "      <td>38</td>\n",
       "      <td>route_32311</td>\n",
       "      <td>1542</td>\n",
       "      <td>15</td>\n",
       "      <td>102.800000</td>\n",
       "      <td>정상</td>\n",
       "    </tr>\n",
       "    <tr>\n",
       "      <th>39</th>\n",
       "      <td>39</td>\n",
       "      <td>route_32333</td>\n",
       "      <td>1561</td>\n",
       "      <td>8</td>\n",
       "      <td>195.125000</td>\n",
       "      <td>정상</td>\n",
       "    </tr>\n",
       "    <tr>\n",
       "      <th>40</th>\n",
       "      <td>40</td>\n",
       "      <td>route_33111</td>\n",
       "      <td>1414</td>\n",
       "      <td>14</td>\n",
       "      <td>101.000000</td>\n",
       "      <td>정상</td>\n",
       "    </tr>\n",
       "    <tr>\n",
       "      <th>41</th>\n",
       "      <td>41</td>\n",
       "      <td>route_33133</td>\n",
       "      <td>1484</td>\n",
       "      <td>16</td>\n",
       "      <td>92.750000</td>\n",
       "      <td>정상</td>\n",
       "    </tr>\n",
       "    <tr>\n",
       "      <th>42</th>\n",
       "      <td>42</td>\n",
       "      <td>route_33222</td>\n",
       "      <td>1724</td>\n",
       "      <td>22</td>\n",
       "      <td>78.363636</td>\n",
       "      <td>정상</td>\n",
       "    </tr>\n",
       "    <tr>\n",
       "      <th>43</th>\n",
       "      <td>43</td>\n",
       "      <td>route_33311</td>\n",
       "      <td>1571</td>\n",
       "      <td>16</td>\n",
       "      <td>98.187500</td>\n",
       "      <td>정상</td>\n",
       "    </tr>\n",
       "    <tr>\n",
       "      <th>44</th>\n",
       "      <td>44</td>\n",
       "      <td>route_33333</td>\n",
       "      <td>1485</td>\n",
       "      <td>14</td>\n",
       "      <td>106.071429</td>\n",
       "      <td>정상</td>\n",
       "    </tr>\n",
       "  </tbody>\n",
       "</table>\n",
       "</div>"
      ],
      "text/plain": [
       "    Unnamed: 0 Chamber_Route  Target  count  error_rate 과부하여부\n",
       "0            0   route_11111    1415     15   94.333333    정상\n",
       "1            1   route_11133    1367     13  105.153846    정상\n",
       "2            2   route_11222    2281     25   91.240000    정상\n",
       "3            3   route_11311    1811     17  106.529412    정상\n",
       "4            4   route_11333    1203     14   85.928571    정상\n",
       "5            5   route_12111    1677     18   93.166667    정상\n",
       "6            6   route_12133    1519     14  108.500000    정상\n",
       "7            7   route_12222    2835     20  141.750000    정상\n",
       "8            8   route_12311    1253     15   83.533333    정상\n",
       "9            9   route_12333    2152     16  134.500000    정상\n",
       "10          10   route_13111    1590     14  113.571429    정상\n",
       "11          11   route_13133    1452      9  161.333333    정상\n",
       "12          12   route_13222    3137     26  120.653846   과부하\n",
       "13          13   route_13311    1862     15  124.133333    정상\n",
       "14          14   route_13333    1651     16  103.187500    정상\n",
       "15          15   route_21111    1942     14  138.714286    정상\n",
       "16          16   route_21133    1976     17  116.235294    정상\n",
       "17          17   route_21222    3358     26  129.153846   과부하\n",
       "18          18   route_21311    1396     15   93.066667    정상\n",
       "19          19   route_21333    2096     16  131.000000    정상\n",
       "20          20   route_22111    1639     13  126.076923    정상\n",
       "21          21   route_22133    1895     12  157.916667    정상\n",
       "22          22   route_22222    3351     29  115.551724   과부하\n",
       "23          23   route_22311    1142     11  103.818182    정상\n",
       "24          24   route_22333    1661     15  110.733333    정상\n",
       "25          25   route_23111    1819     16  113.687500    정상\n",
       "26          26   route_23133    1792     11  162.909091    정상\n",
       "27          27   route_23222    3850     34  113.235294   과부하\n",
       "28          28   route_23311    1514     16   94.625000    정상\n",
       "29          29   route_23333    1334     14   95.285714    정상\n",
       "30          30   route_31111    2007     16  125.437500    정상\n",
       "31          31   route_31133    1564     14  111.714286    정상\n",
       "32          32   route_31222    2453     23  106.652174    정상\n",
       "33          33   route_31311    1548     12  129.000000    정상\n",
       "34          34   route_31333    1312     14   93.714286    정상\n",
       "35          35   route_32111    1613     15  107.533333    정상\n",
       "36          36   route_32133    1533     17   90.176471    정상\n",
       "37          37   route_32222    3496     30  116.533333   과부하\n",
       "38          38   route_32311    1542     15  102.800000    정상\n",
       "39          39   route_32333    1561      8  195.125000    정상\n",
       "40          40   route_33111    1414     14  101.000000    정상\n",
       "41          41   route_33133    1484     16   92.750000    정상\n",
       "42          42   route_33222    1724     22   78.363636    정상\n",
       "43          43   route_33311    1571     16   98.187500    정상\n",
       "44          44   route_33333    1485     14  106.071429    정상"
      ]
     },
     "execution_count": 45,
     "metadata": {},
     "output_type": "execute_result"
    }
   ],
   "source": [
    "# 과부하 여부 (범주형) VS 불량Die의 개수 (연속)\n",
    "# 1-1. Target 값의 정규성 검정\n",
    "df1"
   ]
  },
  {
   "cell_type": "code",
   "execution_count": 46,
   "id": "8f4d9799-c6a3-42eb-ac36-15e065793a34",
   "metadata": {},
   "outputs": [
    {
     "name": "stderr",
     "output_type": "stream",
     "text": [
      "C:\\ProgramData\\anaconda3\\Lib\\site-packages\\seaborn\\_oldcore.py:1119: FutureWarning: use_inf_as_na option is deprecated and will be removed in a future version. Convert inf values to NaN before operating instead.\n",
      "  with pd.option_context('mode.use_inf_as_na', True):\n"
     ]
    },
    {
     "data": {
      "text/plain": [
       "<Axes: xlabel='Target', ylabel='Count'>"
      ]
     },
     "execution_count": 46,
     "metadata": {},
     "output_type": "execute_result"
    },
    {
     "data": {
      "image/png": "[encoded data removed]",
      "text/plain": [
       "<Figure size 640x480 with 1 Axes>"
      ]
     },
     "metadata": {},
     "output_type": "display_data"
    }
   ],
   "source": [
    "sns.histplot(data = df1, x = 'Target')"
   ]
  },
  {
   "cell_type": "code",
   "execution_count": 47,
   "id": "e311679f-9f8c-42a9-ac54-ff0507043c25",
   "metadata": {},
   "outputs": [
    {
     "data": {
      "text/plain": [
       "NormaltestResult(statistic=19.830161075462293, pvalue=4.942369772655265e-05)"
      ]
     },
     "execution_count": 47,
     "metadata": {},
     "output_type": "execute_result"
    }
   ],
   "source": [
    "# 귀무 가설 : Target값은 정규분포를 따른다.\n",
    "# 대립 가설 : Target값은 정규분포를 따르지 않는다.\n",
    "stats.normaltest(df1['Target'])"
   ]
  },
  {
   "cell_type": "code",
   "execution_count": 48,
   "id": "819b68f2-f4a8-48c0-80f0-8a3e96834d9c",
   "metadata": {},
   "outputs": [],
   "source": [
    "# P.value < 0.05\n",
    "# 통계적 결론 : 대립가설이 참\n",
    "# 사실적 결론 : Target값은 정규분포를 따르지 않는다."
   ]
  },
  {
   "cell_type": "code",
   "execution_count": 49,
   "id": "dfcdfc3c-3d5b-4f3a-b5bd-a4f3203a9fc8",
   "metadata": {},
   "outputs": [],
   "source": [
    "# 1-2. (비정규분포) 경로 부하 여부에 따른 불량의 차이가 있는가\n",
    "# 귀무가설 : 부하여부에 따라 불량 개수 평균의 차이가 없다.\n",
    "# 대립가설 : 부하여부에 따라 불량 개수의 평균의 차이가 있다.\n",
    "cond1 = (df1['과부하여부'] == '과부하')\n",
    "df1_overload = df1.loc[cond1]\n",
    "df1_normal = df1.loc[~cond1]"
   ]
  },
  {
   "cell_type": "code",
   "execution_count": 50,
   "id": "359ba93a-d05a-45c6-a62b-61f3f4d00953",
   "metadata": {},
   "outputs": [
    {
     "data": {
      "text/plain": [
       "RanksumsResult(statistic=3.611575592573076, pvalue=0.00030434234335938035)"
      ]
     },
     "execution_count": 50,
     "metadata": {},
     "output_type": "execute_result"
    }
   ],
   "source": [
    "stats.ranksums(df1_overload['Target'],df1_normal['Target'])"
   ]
  },
  {
   "cell_type": "code",
   "execution_count": 51,
   "id": "fe36b14e-c884-4719-865d-a6272ef7dbe1",
   "metadata": {},
   "outputs": [],
   "source": [
    "# P.value < 0.05\n",
    "# 통계적 결론 : 대립가설 참\n",
    "# 사실적 결론 : 부하여부에 따라 불량 개수의 평균의 차이가 있다."
   ]
  },
  {
   "cell_type": "code",
   "execution_count": 52,
   "id": "1f595711-5fd8-4a0a-bd4e-f9e8e0590073",
   "metadata": {},
   "outputs": [
    {
     "data": {
      "text/html": [
       "<div>\n",
       "<style scoped>\n",
       "    .dataframe tbody tr th:only-of-type {\n",
       "        vertical-align: middle;\n",
       "    }\n",
       "\n",
       "    .dataframe tbody tr th {\n",
       "        vertical-align: top;\n",
       "    }\n",
       "\n",
       "    .dataframe thead th {\n",
       "        text-align: right;\n",
       "    }\n",
       "</style>\n",
       "<table border=\"1\" class=\"dataframe\">\n",
       "  <thead>\n",
       "    <tr style=\"text-align: right;\">\n",
       "      <th></th>\n",
       "      <th>Target</th>\n",
       "    </tr>\n",
       "    <tr>\n",
       "      <th>과부하여부</th>\n",
       "      <th></th>\n",
       "    </tr>\n",
       "  </thead>\n",
       "  <tbody>\n",
       "    <tr>\n",
       "      <th>과부하</th>\n",
       "      <td>3438.400</td>\n",
       "    </tr>\n",
       "    <tr>\n",
       "      <th>정상</th>\n",
       "      <td>1677.125</td>\n",
       "    </tr>\n",
       "  </tbody>\n",
       "</table>\n",
       "</div>"
      ],
      "text/plain": [
       "         Target\n",
       "과부하여부          \n",
       "과부하    3438.400\n",
       "정상     1677.125"
      ]
     },
     "execution_count": 52,
     "metadata": {},
     "output_type": "execute_result"
    }
   ],
   "source": [
    "df1.pivot_table(index = '과부하여부', values = 'Target', aggfunc = 'mean')"
   ]
  },
  {
   "cell_type": "code",
   "execution_count": 53,
   "id": "5e76e0b5-5c7b-4e74-96a5-bc43591e4d7c",
   "metadata": {},
   "outputs": [
    {
     "data": {
      "text/plain": [
       "LeveneResult(statistic=0.3912575056896691, pvalue=0.5349450584636936)"
      ]
     },
     "execution_count": 53,
     "metadata": {},
     "output_type": "execute_result"
    }
   ],
   "source": [
    "# 1-3. (만약, Target값이 정규분포를 띄었을 때) 등분산 검정\n",
    "# 귀무가설 : 부하여부에 따른 불량개수의 분산이 같다.\n",
    "# 대립가설 : 부하여부에 따른 불량개수의 분산이 다르다.\n",
    "\n",
    "stats.levene(df1_overload['Target'], df1_normal['Target'])"
   ]
  },
  {
   "cell_type": "code",
   "execution_count": 54,
   "id": "28515fe3-3c93-4a70-bbe4-344841b120c6",
   "metadata": {},
   "outputs": [],
   "source": [
    "# P.value > 0.05\n",
    "# 통계적 결론 : 귀무가설이 참.\n",
    "# 사실적 결론 : 부하여부에 따른 불량개수의 분산이 같다."
   ]
  },
  {
   "cell_type": "code",
   "execution_count": 55,
   "id": "b868ccd9-2b62-4862-b29d-c47c328bf551",
   "metadata": {},
   "outputs": [
    {
     "data": {
      "text/plain": [
       "TtestResult(statistic=10.967687527137478, pvalue=4.8594805507843626e-14, df=43.0)"
      ]
     },
     "execution_count": 55,
     "metadata": {},
     "output_type": "execute_result"
    }
   ],
   "source": [
    "# 1-4 (등분산을 가정한) 두 집단간 평균 비교\n",
    "stats.ttest_ind(df1_overload['Target'], df1_normal['Target'], equal_var = True)"
   ]
  },
  {
   "cell_type": "code",
   "execution_count": 56,
   "id": "26c95de6-e39c-40f8-a23b-9cb5c8ede0c8",
   "metadata": {},
   "outputs": [],
   "source": [
    "# P.value < 0.05\n",
    "# 통계적 결론 : 대립가설이 참.\n",
    "# 사실적 결론 : 부하여부에 따른 불량개수의 평균의 차이가 있다."
   ]
  },
  {
   "cell_type": "markdown",
   "id": "b2308297-ae52-4390-90e9-ad02446459b1",
   "metadata": {},
   "source": [
    "---"
   ]
  },
  {
   "cell_type": "code",
   "execution_count": null,
   "id": "5c56e405-1427-4999-8df7-ccd01c848295",
   "metadata": {},
   "outputs": [],
   "source": []
  },
  {
   "cell_type": "code",
   "execution_count": 114,
   "id": "68cf8284-7119-40b1-927f-611380eee44c",
   "metadata": {},
   "outputs": [],
   "source": [
    "import pandas as pd\n",
    "import numpy as np\n",
    "\n",
    "import seaborn as sns\n",
    "import matplotlib.pyplot as plt\n",
    "import matplotlib as mpl\n",
    "import scipy.stats as stats"
   ]
  },
  {
   "cell_type": "code",
   "execution_count": 115,
   "id": "1d647639-d46d-4f92-8eba-e95d21bd942c",
   "metadata": {},
   "outputs": [],
   "source": [
    "df1 = pd.read_csv('Data/Error.csv')"
   ]
  },
  {
   "cell_type": "code",
   "execution_count": 116,
   "id": "40b997ff-f9d7-42f2-b278-944ca6f23af4",
   "metadata": {},
   "outputs": [
    {
     "data": {
      "text/html": [
       "<div>\n",
       "<style scoped>\n",
       "    .dataframe tbody tr th:only-of-type {\n",
       "        vertical-align: middle;\n",
       "    }\n",
       "\n",
       "    .dataframe tbody tr th {\n",
       "        vertical-align: top;\n",
       "    }\n",
       "\n",
       "    .dataframe thead tr th {\n",
       "        text-align: left;\n",
       "    }\n",
       "\n",
       "    .dataframe thead tr:last-of-type th {\n",
       "        text-align: right;\n",
       "    }\n",
       "</style>\n",
       "<table border=\"1\" class=\"dataframe\">\n",
       "  <thead>\n",
       "    <tr>\n",
       "      <th></th>\n",
       "      <th>mean</th>\n",
       "      <th>count</th>\n",
       "    </tr>\n",
       "    <tr>\n",
       "      <th></th>\n",
       "      <th>정지시간2</th>\n",
       "      <th>정지시간2</th>\n",
       "    </tr>\n",
       "    <tr>\n",
       "      <th>메세지</th>\n",
       "      <th></th>\n",
       "      <th></th>\n",
       "    </tr>\n",
       "  </thead>\n",
       "  <tbody>\n",
       "    <tr>\n",
       "      <th>Door Open</th>\n",
       "      <td>67.562041</td>\n",
       "      <td>1345</td>\n",
       "    </tr>\n",
       "    <tr>\n",
       "      <th>ITS 데이터</th>\n",
       "      <td>52.978333</td>\n",
       "      <td>3</td>\n",
       "    </tr>\n",
       "    <tr>\n",
       "      <th>SYSTEM HANG UP</th>\n",
       "      <td>20.721886</td>\n",
       "      <td>35</td>\n",
       "    </tr>\n",
       "    <tr>\n",
       "      <th>e-CIM 관련에러</th>\n",
       "      <td>73.292000</td>\n",
       "      <td>133</td>\n",
       "    </tr>\n",
       "    <tr>\n",
       "      <th>드라이버 알람</th>\n",
       "      <td>50.887000</td>\n",
       "      <td>2</td>\n",
       "    </tr>\n",
       "    <tr>\n",
       "      <th>롯트 종료</th>\n",
       "      <td>43.841712</td>\n",
       "      <td>229</td>\n",
       "    </tr>\n",
       "    <tr>\n",
       "      <th>메가진 Full</th>\n",
       "      <td>44.304277</td>\n",
       "      <td>119</td>\n",
       "    </tr>\n",
       "    <tr>\n",
       "      <th>비젼 가동 준비 Error</th>\n",
       "      <td>58.614436</td>\n",
       "      <td>234</td>\n",
       "    </tr>\n",
       "    <tr>\n",
       "      <th>비젼 데이터</th>\n",
       "      <td>65.188167</td>\n",
       "      <td>6</td>\n",
       "    </tr>\n",
       "    <tr>\n",
       "      <th>자재 픽업 에러</th>\n",
       "      <td>49.007108</td>\n",
       "      <td>425</td>\n",
       "    </tr>\n",
       "    <tr>\n",
       "      <th>초기화 Error</th>\n",
       "      <td>233.085367</td>\n",
       "      <td>215</td>\n",
       "    </tr>\n",
       "    <tr>\n",
       "      <th>컨드롤러 알람</th>\n",
       "      <td>4.032000</td>\n",
       "      <td>1</td>\n",
       "    </tr>\n",
       "    <tr>\n",
       "      <th>타임 오버</th>\n",
       "      <td>49.343889</td>\n",
       "      <td>45</td>\n",
       "    </tr>\n",
       "  </tbody>\n",
       "</table>\n",
       "</div>"
      ],
      "text/plain": [
       "                      mean count\n",
       "                     정지시간2 정지시간2\n",
       "메세지                             \n",
       "Door Open        67.562041  1345\n",
       "ITS 데이터          52.978333     3\n",
       "SYSTEM HANG UP   20.721886    35\n",
       "e-CIM 관련에러       73.292000   133\n",
       "드라이버 알람          50.887000     2\n",
       "롯트 종료            43.841712   229\n",
       "메가진 Full         44.304277   119\n",
       "비젼 가동 준비 Error   58.614436   234\n",
       "비젼 데이터           65.188167     6\n",
       "자재 픽업 에러         49.007108   425\n",
       "초기화 Error       233.085367   215\n",
       "컨드롤러 알람           4.032000     1\n",
       "타임 오버            49.343889    45"
      ]
     },
     "execution_count": 116,
     "metadata": {},
     "output_type": "execute_result"
    }
   ],
   "source": [
    "df1.pivot_table(index = '메세지', values = '정지시간2', aggfunc = ['mean','count'])"
   ]
  },
  {
   "cell_type": "code",
   "execution_count": 148,
   "id": "fae8c63d-cd2f-4800-8252-c4b0787da264",
   "metadata": {},
   "outputs": [
    {
     "data": {
      "text/plain": [
       "메세지\n",
       "Door Open         1345\n",
       "자재 픽업 에러           425\n",
       "비젼 가동 준비 Error     234\n",
       "롯트 종료              229\n",
       "초기화 Error          215\n",
       "e-CIM 관련에러         133\n",
       "메가진 Full           119\n",
       "타임 오버               45\n",
       "SYSTEM HANG UP      35\n",
       "비젼 데이터               6\n",
       "ITS 데이터              3\n",
       "드라이버 알람              2\n",
       "컨드롤러 알람              1\n",
       "Name: count, dtype: int64"
      ]
     },
     "execution_count": 148,
     "metadata": {},
     "output_type": "execute_result"
    }
   ],
   "source": [
    "df1['메세지'].value_counts().sort_values(ascending = False)"
   ]
  },
  {
   "cell_type": "code",
   "execution_count": 117,
   "id": "35c125f3-692b-4fd1-84c0-411288a38db5",
   "metadata": {
    "scrolled": true
   },
   "outputs": [],
   "source": [
    "cond2 = df1['메세지'].value_counts().sort_values(ascending = False)"
   ]
  },
  {
   "cell_type": "code",
   "execution_count": 118,
   "id": "a4f0a997-369c-453d-b768-01c8afc04de7",
   "metadata": {},
   "outputs": [],
   "source": [
    "# 핵심 메시지(범주형)에 따른 정지시간2(조치시간)/연속형 에 평균의 차이가 있는가\n",
    "# X : 범주형 / Y : 연속형 -> 집단 간 평균비교\n",
    "\n",
    "# 1-1. 정지시간2 데이터의 정규성 검정\n",
    "# 귀무가설 : '정지시간2' 데이터의 분포가 정규분포를 띌 것이다.\n",
    "# 대립가설 : '정지시간2' 데이터의 분포가 정규분포를 띄지 않을 것이다.\n",
    "cond1 = (df1['메세지']=='Door Open') | (df1['메세지']=='자재 픽업 에러')\\\n",
    "| (df1['메세지']=='비젼 가동 준비 Error')\n",
    "\n",
    "df1_error = df1.loc[cond1]"
   ]
  },
  {
   "cell_type": "code",
   "execution_count": 119,
   "id": "1b9af375-f75b-4e58-b660-16dca8fce8fd",
   "metadata": {},
   "outputs": [],
   "source": [
    "mpl.rc('font', family = 'Malgun Gothic')"
   ]
  },
  {
   "cell_type": "code",
   "execution_count": 120,
   "id": "595a7aa1-eab6-48f6-bf0f-25148570292a",
   "metadata": {},
   "outputs": [
    {
     "name": "stderr",
     "output_type": "stream",
     "text": [
      "C:\\ProgramData\\anaconda3\\Lib\\site-packages\\seaborn\\_oldcore.py:1119: FutureWarning: use_inf_as_na option is deprecated and will be removed in a future version. Convert inf values to NaN before operating instead.\n",
      "  with pd.option_context('mode.use_inf_as_na', True):\n"
     ]
    },
    {
     "data": {
      "text/plain": [
       "<Axes: xlabel='정지시간2', ylabel='Count'>"
      ]
     },
     "execution_count": 120,
     "metadata": {},
     "output_type": "execute_result"
    },
    {
     "data": {
      "image/png": "[encoded data removed]",
      "text/plain": [
       "<Figure size 640x480 with 1 Axes>"
      ]
     },
     "metadata": {},
     "output_type": "display_data"
    }
   ],
   "source": [
    "plt.xlim([0,120])\n",
    "sns.histplot(data = df1_error, x='정지시간2')"
   ]
  },
  {
   "cell_type": "code",
   "execution_count": 121,
   "id": "404789ce-c197-417b-bec9-b0720820d544",
   "metadata": {
    "scrolled": true
   },
   "outputs": [
    {
     "data": {
      "text/plain": [
       "NormaltestResult(statistic=3998.325606045262, pvalue=0.0)"
      ]
     },
     "execution_count": 121,
     "metadata": {},
     "output_type": "execute_result"
    }
   ],
   "source": [
    "stats.normaltest(df1_error['정지시간2'])\n",
    "# P.value < 0.05\n",
    "# 통계적 결론 : 대립가설 참\n",
    "# 사실적 결론 : '정지시간2' 데이터의 분포가 정규분포를 띄지 않을 것이다."
   ]
  },
  {
   "cell_type": "code",
   "execution_count": 122,
   "id": "5965f763-7806-4370-a735-9da8c19f3680",
   "metadata": {},
   "outputs": [
    {
     "data": {
      "text/plain": [
       "<Axes: xlabel='메세지', ylabel='정지시간2'>"
      ]
     },
     "execution_count": 122,
     "metadata": {},
     "output_type": "execute_result"
    },
    {
     "data": {
      "image/png": "[encoded data removed]",
      "text/plain": [
       "<Figure size 640x480 with 1 Axes>"
      ]
     },
     "metadata": {},
     "output_type": "display_data"
    }
   ],
   "source": [
    "# 비정규분포에 대한 집단간 평균 비교 (비모수적 검정)\n",
    "# 귀무가설 : 각 집단의 평균의 차이가 없다.\n",
    "# 대립가설 : 각 집단의 평균의 차이가 있다.\n",
    "sns.barplot(data = df1_error, x='메세지',y='정지시간2')"
   ]
  },
  {
   "cell_type": "code",
   "execution_count": 123,
   "id": "d54b040d-5860-47bf-9ece-014e0188376f",
   "metadata": {},
   "outputs": [],
   "source": [
    "cond1 = (df1_error['메세지'] == 'Door Open')\n",
    "cond2 = (df1_error['메세지'] == '자재 픽업 에러')\n",
    "cond3 = (df1_error['메세지'] == '비젼 가동 준비 Error')\n",
    "\n",
    "df1_door = df1_error.loc[cond1]\n",
    "df1_pick = df1_error.loc[cond2]\n",
    "df1_vision = df1_error.loc[cond3]"
   ]
  },
  {
   "cell_type": "code",
   "execution_count": 124,
   "id": "89c7ecdd-a344-4e0e-8836-913e31e058c6",
   "metadata": {},
   "outputs": [
    {
     "data": {
      "text/plain": [
       "KruskalResult(statistic=11.874092141392854, pvalue=0.002639815974990724)"
      ]
     },
     "execution_count": 124,
     "metadata": {},
     "output_type": "execute_result"
    }
   ],
   "source": [
    "stats.kruskal(df1_door['정지시간2'], df1_pick['정지시간2'], df1_vision['정지시간2'])"
   ]
  },
  {
   "cell_type": "code",
   "execution_count": 125,
   "id": "c31e1363-bb5c-454f-954c-03294d0eb510",
   "metadata": {},
   "outputs": [],
   "source": [
    "# P.vluae < 0.05\n",
    "# 통계적 결론 : 대립가설 참\n",
    "# 사실적 결론 : 발생하는 핵심 에러 별 조치시간의 차이가 명확히 존재한다."
   ]
  },
  {
   "cell_type": "code",
   "execution_count": 126,
   "id": "b5b25603-9d7b-4dd3-8492-52a100d11dff",
   "metadata": {
    "scrolled": true
   },
   "outputs": [],
   "source": [
    "cond1 = (df1['메세지'] == 'Door Open')\n",
    "df1_dooropen = df1.loc[cond1]"
   ]
  },
  {
   "cell_type": "code",
   "execution_count": 127,
   "id": "fb57a333-5983-427a-bd04-1087c4795ae3",
   "metadata": {},
   "outputs": [
    {
     "data": {
      "text/html": [
       "<div>\n",
       "<style scoped>\n",
       "    .dataframe tbody tr th:only-of-type {\n",
       "        vertical-align: middle;\n",
       "    }\n",
       "\n",
       "    .dataframe tbody tr th {\n",
       "        vertical-align: top;\n",
       "    }\n",
       "\n",
       "    .dataframe thead th {\n",
       "        text-align: right;\n",
       "    }\n",
       "</style>\n",
       "<table border=\"1\" class=\"dataframe\">\n",
       "  <thead>\n",
       "    <tr style=\"text-align: right;\">\n",
       "      <th></th>\n",
       "      <th>정지시간2</th>\n",
       "    </tr>\n",
       "    <tr>\n",
       "      <th>작업구분</th>\n",
       "      <th></th>\n",
       "    </tr>\n",
       "  </thead>\n",
       "  <tbody>\n",
       "    <tr>\n",
       "      <th>야간</th>\n",
       "      <td>55.083103</td>\n",
       "    </tr>\n",
       "    <tr>\n",
       "      <th>주간</th>\n",
       "      <td>78.958169</td>\n",
       "    </tr>\n",
       "  </tbody>\n",
       "</table>\n",
       "</div>"
      ],
      "text/plain": [
       "          정지시간2\n",
       "작업구분           \n",
       "야간    55.083103\n",
       "주간    78.958169"
      ]
     },
     "execution_count": 127,
     "metadata": {},
     "output_type": "execute_result"
    }
   ],
   "source": [
    "df1_dooropen.pivot_table(index = '작업구분', values = '정지시간2', aggfunc = 'mean')"
   ]
  },
  {
   "cell_type": "code",
   "execution_count": 128,
   "id": "77f09c56-a4ed-4d0c-bc13-9539aa8fde71",
   "metadata": {
    "scrolled": true
   },
   "outputs": [
    {
     "name": "stderr",
     "output_type": "stream",
     "text": [
      "C:\\ProgramData\\anaconda3\\Lib\\site-packages\\seaborn\\_oldcore.py:1119: FutureWarning: use_inf_as_na option is deprecated and will be removed in a future version. Convert inf values to NaN before operating instead.\n",
      "  with pd.option_context('mode.use_inf_as_na', True):\n"
     ]
    },
    {
     "data": {
      "text/plain": [
       "<Axes: xlabel='정지시간2', ylabel='Count'>"
      ]
     },
     "execution_count": 128,
     "metadata": {},
     "output_type": "execute_result"
    },
    {
     "data": {
      "image/png": "[encoded data removed]",
      "text/plain": [
       "<Figure size 640x480 with 1 Axes>"
      ]
     },
     "metadata": {},
     "output_type": "display_data"
    }
   ],
   "source": [
    "# 2-1. Door Open Error의 정지시간의 분포가 정규분포인지 아닌지\n",
    "# 귀무가설 : Door Open Error의 정지시간의 분포가 정규분포이다.\n",
    "# 대립가설 : Door Open Error의 정지시간의 분포가 정규분포가 아니다.\n",
    "plt.xlim([0,100])\n",
    "sns.histplot(data = df1_dooropen, x='정지시간2')"
   ]
  },
  {
   "cell_type": "code",
   "execution_count": 84,
   "id": "bfdfa63a-3a02-466c-b2a3-11fb1cc964c5",
   "metadata": {},
   "outputs": [
    {
     "data": {
      "text/plain": [
       "NormaltestResult(statistic=2647.03980170818, pvalue=0.0)"
      ]
     },
     "execution_count": 84,
     "metadata": {},
     "output_type": "execute_result"
    }
   ],
   "source": [
    "stats.normaltest(df1_dooropen['정지시간2'])"
   ]
  },
  {
   "cell_type": "code",
   "execution_count": 86,
   "id": "2b15b559-dc98-43ca-90ea-9cd50d61e52d",
   "metadata": {},
   "outputs": [],
   "source": [
    "# P.value < 0.05 / 대립가설 참 / Door Open Error의 정지시간의 분포가 정규분포가 아니다."
   ]
  },
  {
   "cell_type": "code",
   "execution_count": 88,
   "id": "3cc29c97-2c0b-41bd-b444-26b836ee9d0c",
   "metadata": {},
   "outputs": [],
   "source": [
    "# 2-2. 비정규분포 -> Ranksums\n",
    "# 귀무가설 : 주간 작업과 야간작업의 정지시간의 평균의 차이가 없다.\n",
    "# 대립가설 : 주간 작업과 야간작업의 정지시간의 평균의 차이가 있다.\n",
    "cond1 = (df1_dooropen['작업구분'] == '주간')\n",
    "cond2 = (df1_dooropen['작업구분'] == '야간')\n",
    "\n",
    "df1_door_days = df1_dooropen.loc[cond1]\n",
    "df1_door_night = df1_dooropen.loc[cond2]"
   ]
  },
  {
   "cell_type": "code",
   "execution_count": 90,
   "id": "183d7d39-a257-46f8-9940-c08700af94a3",
   "metadata": {},
   "outputs": [
    {
     "data": {
      "text/plain": [
       "RanksumsResult(statistic=1.663870780217619, pvalue=0.09613825542066314)"
      ]
     },
     "execution_count": 90,
     "metadata": {},
     "output_type": "execute_result"
    }
   ],
   "source": [
    "stats.ranksums(df1_door_days['정지시간2'] , df1_door_night['정지시간2'])"
   ]
  },
  {
   "cell_type": "code",
   "execution_count": 92,
   "id": "74bb9622-7fc0-4049-9751-68b5e70705e4",
   "metadata": {},
   "outputs": [],
   "source": [
    "# P.value > 0.05\n",
    "# 통계적 결론 : 귀무가설 참\n",
    "# 사실적 결론 : 주간 작업과 야간작업의 정지시간의 평균의 차이가 없다.\n"
   ]
  },
  {
   "cell_type": "code",
   "execution_count": null,
   "id": "a4b295e7-5318-4008-b782-682b75a3ea0d",
   "metadata": {},
   "outputs": [],
   "source": []
  },
  {
   "cell_type": "code",
   "execution_count": null,
   "id": "f617e2e0-2d17-43a8-bbcf-09720908f5bc",
   "metadata": {},
   "outputs": [],
   "source": []
  },
  {
   "cell_type": "code",
   "execution_count": null,
   "id": "554aea6c-74d1-4e40-abf2-f15aec0426a4",
   "metadata": {},
   "outputs": [],
   "source": []
  },
  {
   "cell_type": "code",
   "execution_count": null,
   "id": "bd469e92-00f1-4a45-b836-df85fdfab54a",
   "metadata": {},
   "outputs": [],
   "source": []
  },
  {
   "cell_type": "code",
   "execution_count": null,
   "id": "64f8f97d-1005-4efe-8275-c306b827f28e",
   "metadata": {},
   "outputs": [],
   "source": []
  },
  {
   "cell_type": "code",
   "execution_count": null,
   "id": "378ddf00-60ec-48e7-826a-d572650e0d6b",
   "metadata": {},
   "outputs": [],
   "source": []
  },
  {
   "cell_type": "code",
   "execution_count": null,
   "id": "46fa152a-cfeb-4b1a-9f40-e72c5a33aecc",
   "metadata": {},
   "outputs": [],
   "source": []
  },
  {
   "cell_type": "code",
   "execution_count": null,
   "id": "a0257efc-5e58-4376-a4ba-0239557e0c5b",
   "metadata": {},
   "outputs": [],
   "source": []
  },
  {
   "cell_type": "code",
   "execution_count": null,
   "id": "3136b576-9d31-4839-8773-3cf81320dc7b",
   "metadata": {},
   "outputs": [],
   "source": []
  },
  {
   "cell_type": "code",
   "execution_count": null,
   "id": "46f286a6-7ab1-4b32-8dc4-9f904ce5f399",
   "metadata": {},
   "outputs": [],
   "source": []
  },
  {
   "cell_type": "code",
   "execution_count": null,
   "id": "7e2272df-da7f-4e9a-afc7-eb40ab627b53",
   "metadata": {},
   "outputs": [],
   "source": []
  },
  {
   "cell_type": "code",
   "execution_count": null,
   "id": "71265d91-643e-412c-8406-bed947d756c2",
   "metadata": {},
   "outputs": [],
   "source": []
  },
  {
   "cell_type": "code",
   "execution_count": null,
   "id": "b8a755c6-d107-4537-b343-4aa7a34d066f",
   "metadata": {},
   "outputs": [],
   "source": []
  },
  {
   "cell_type": "code",
   "execution_count": null,
   "id": "060a07da-987e-464a-8dd7-ffab66940dfd",
   "metadata": {},
   "outputs": [],
   "source": []
  },
  {
   "cell_type": "code",
   "execution_count": null,
   "id": "16f7e2c7-565f-4b61-aa1c-cf9f2673833f",
   "metadata": {},
   "outputs": [],
   "source": []
  }
 ],
 "metadata": {
  "kernelspec": {
   "display_name": "Python 3 (ipykernel)",
   "language": "python",
   "name": "python3"
  },
  "language_info": {
   "codemirror_mode": {
    "name": "ipython",
    "version": 3
   },
   "file_extension": ".py",
   "mimetype": "text/x-python",
   "name": "python",
   "nbconvert_exporter": "python",
   "pygments_lexer": "ipython3",
   "version": "3.11.7"
  },
  "widgets": {
   "application/vnd.jupyter.widget-state+json": {
    "state": {},
    "version_major": 2,
    "version_minor": 0
   }
  }
 },
 "nbformat": 4,
 "nbformat_minor": 5
}
